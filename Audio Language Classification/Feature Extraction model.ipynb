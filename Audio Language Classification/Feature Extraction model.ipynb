{
 "cells": [
  {
   "cell_type": "markdown",
   "metadata": {},
   "source": [
    "## Feature Extration and Classification of Audio Signals"
   ]
  },
  {
   "cell_type": "code",
   "execution_count": 10,
   "metadata": {},
   "outputs": [],
   "source": [
    "import librosa\n",
    "import pydub\n",
    "import time\n",
    "import pandas as pd\n",
    "import numpy as np\n",
    "import matplotlib.pyplot as plt\n",
    "from scipy import signal\n",
    "from glob import glob\n",
    "import os\n",
    "import seaborn as sns\n",
    "from librosa.feature import spectral_contrast, zero_crossing_rate, spectral_centroid, spectral_flatness, spectral_rolloff, rms, mfcc, chroma_stft, tonnetz"
   ]
  },
  {
   "cell_type": "code",
   "execution_count": 2,
   "metadata": {},
   "outputs": [],
   "source": [
    "def read(f, normalized=True):\n",
    "    \"\"\"MP3 to numpy array\"\"\"\n",
    "    a = pydub.AudioSegment.from_mp3(f)\n",
    "    y = np.array(a.get_array_of_samples())\n",
    "    if a.channels == 2:\n",
    "        y = y.reshape((-1, 2))\n",
    "    if normalized:\n",
    "        return a.frame_rate, np.float32(y) / 2**15\n",
    "    else:\n",
    "        return a.frame_rate, y\n",
    "\n",
    "def write(f, sr, x, normalized=False):\n",
    "    \"\"\"numpy array to MP3\"\"\"\n",
    "    channels = 2 if (x.ndim == 2 and x.shape[1] == 2) else 1\n",
    "    if normalized:  # normalized array - each item should be a float in [-1, 1)\n",
    "        y = np.int16(x * 2 ** 15)\n",
    "    else:\n",
    "        y = np.int16(x)\n",
    "    song = pydub.AudioSegment(y.tobytes(), frame_rate=sr, sample_width=2, channels=channels)\n",
    "    song.export(f, format=\"mp3\", bitrate=\"320k\")"
   ]
  },
  {
   "cell_type": "markdown",
   "metadata": {},
   "source": [
    "## Preprocessing: Selecting limited datapoints from each language\n",
    "\n",
    "I'm doing this because my computer takes forever to process a few points"
   ]
  },
  {
   "cell_type": "code",
   "execution_count": 6,
   "metadata": {},
   "outputs": [
    {
     "name": "stdout",
     "output_type": "stream",
     "text": [
      "starting this goddamn process...\n",
      "nl\t768.0373721122742\n",
      "cy\t1601.9979932308197\n",
      "es\t2515.965536594391\n",
      "eu\t3443.4450254440308\n"
     ]
    }
   ],
   "source": [
    "X = []\n",
    "print(\"starting this goddamn process...\")\n",
    "start = time.time()\n",
    "counter = 0\n",
    "for lang in ['nl', 'cy', 'es', 'eu']:\n",
    "    \n",
    "#     info = pd.concat([pd.read_csv(lang + \"/validated.tsv\", sep='\\t'), ])\n",
    "    files = pd.Series([os.path.basename(x) for x in glob(lang + \"\\\\clips\\\\*.mp3\")])\n",
    "#     fil_info = info[(info.gender == 'male') & ~info.accent.isna()]\n",
    "    sample = files.sample(2500)\n",
    "    \n",
    "    for file in sample:\n",
    "        try:\n",
    "            sound = read(lang + \"/clips/\" + file)\n",
    "            tempo = len(sound[1])/sound[0]\n",
    "#             print(tempo, end='')\n",
    "            if tempo >= 5:\n",
    "                signal_5s = sound[1][:sound[0]*5]\n",
    "                X.append([signal_5s, lang, file])#get_features(X, sound[1], lcode)\n",
    "                print(\"{}\\t{}\".format(lang, counter), end='\\r')\n",
    "        except:\n",
    "            pass\n",
    "        \n",
    "        counter += 1\n",
    "    \n",
    "    end = time.time()\n",
    "    print(\"{}\\t{}\".format(lang, end - start), end='\\n')\n",
    "        \n",
    "X_df = pd.DataFrame(X)\n",
    "X_df.rename(columns={0:'signal', 1:'language', 2:'file'}, inplace=True)\n",
    "# X_df.rename(columns={0:'signal', 1:'language', 2:'file'}).to_pickle(lang+\".pkl\")"
   ]
  },
  {
   "cell_type": "code",
   "execution_count": null,
   "metadata": {},
   "outputs": [],
   "source": [
    "# X_df.to_csv(\"compact.csv\")"
   ]
  },
  {
   "cell_type": "code",
   "execution_count": 7,
   "metadata": {},
   "outputs": [
    {
     "name": "stdout",
     "output_type": "stream",
     "text": [
      "<class 'pandas.core.frame.DataFrame'>\n",
      "RangeIndex: 10000 entries, 0 to 9999\n",
      "Data columns (total 3 columns):\n",
      "signal      10000 non-null object\n",
      "language    10000 non-null object\n",
      "file        10000 non-null object\n",
      "dtypes: object(3)\n",
      "memory usage: 234.5+ KB\n"
     ]
    }
   ],
   "source": [
    "X_df.info()"
   ]
  },
  {
   "cell_type": "code",
   "execution_count": 8,
   "metadata": {},
   "outputs": [
    {
     "data": {
      "text/html": [
       "<div>\n",
       "<style scoped>\n",
       "    .dataframe tbody tr th:only-of-type {\n",
       "        vertical-align: middle;\n",
       "    }\n",
       "\n",
       "    .dataframe tbody tr th {\n",
       "        vertical-align: top;\n",
       "    }\n",
       "\n",
       "    .dataframe thead th {\n",
       "        text-align: right;\n",
       "    }\n",
       "</style>\n",
       "<table border=\"1\" class=\"dataframe\">\n",
       "  <thead>\n",
       "    <tr style=\"text-align: right;\">\n",
       "      <th></th>\n",
       "      <th>signal</th>\n",
       "      <th>language</th>\n",
       "      <th>file</th>\n",
       "    </tr>\n",
       "  </thead>\n",
       "  <tbody>\n",
       "    <tr>\n",
       "      <th>0</th>\n",
       "      <td>[0.0, 0.0, 0.0, 0.0, 0.0, 0.0, 0.0, 0.0, 0.0, ...</td>\n",
       "      <td>nl</td>\n",
       "      <td>common_voice_nl_18841534.mp3</td>\n",
       "    </tr>\n",
       "    <tr>\n",
       "      <th>1</th>\n",
       "      <td>[0.0, 0.0, 0.0, 0.0, 0.0, 0.0, 0.0, 0.0, 0.0, ...</td>\n",
       "      <td>nl</td>\n",
       "      <td>common_voice_nl_17703325.mp3</td>\n",
       "    </tr>\n",
       "    <tr>\n",
       "      <th>2</th>\n",
       "      <td>[0.0, 0.0, 0.0, 0.0, 0.0, 0.0, 0.0, 0.0, 0.0, ...</td>\n",
       "      <td>nl</td>\n",
       "      <td>common_voice_nl_18739137.mp3</td>\n",
       "    </tr>\n",
       "    <tr>\n",
       "      <th>3</th>\n",
       "      <td>[0.0, 0.0, 0.0, 0.0, 0.0, 0.0, 0.0, 0.0, 0.0, ...</td>\n",
       "      <td>nl</td>\n",
       "      <td>common_voice_nl_18646506.mp3</td>\n",
       "    </tr>\n",
       "    <tr>\n",
       "      <th>4</th>\n",
       "      <td>[0.0, 0.0, 0.0, 0.0, 0.0, 0.0, 0.0, 0.0, 0.0, ...</td>\n",
       "      <td>nl</td>\n",
       "      <td>common_voice_nl_18843907.mp3</td>\n",
       "    </tr>\n",
       "  </tbody>\n",
       "</table>\n",
       "</div>"
      ],
      "text/plain": [
       "                                              signal language  \\\n",
       "0  [0.0, 0.0, 0.0, 0.0, 0.0, 0.0, 0.0, 0.0, 0.0, ...       nl   \n",
       "1  [0.0, 0.0, 0.0, 0.0, 0.0, 0.0, 0.0, 0.0, 0.0, ...       nl   \n",
       "2  [0.0, 0.0, 0.0, 0.0, 0.0, 0.0, 0.0, 0.0, 0.0, ...       nl   \n",
       "3  [0.0, 0.0, 0.0, 0.0, 0.0, 0.0, 0.0, 0.0, 0.0, ...       nl   \n",
       "4  [0.0, 0.0, 0.0, 0.0, 0.0, 0.0, 0.0, 0.0, 0.0, ...       nl   \n",
       "\n",
       "                           file  \n",
       "0  common_voice_nl_18841534.mp3  \n",
       "1  common_voice_nl_17703325.mp3  \n",
       "2  common_voice_nl_18739137.mp3  \n",
       "3  common_voice_nl_18646506.mp3  \n",
       "4  common_voice_nl_18843907.mp3  "
      ]
     },
     "execution_count": 8,
     "metadata": {},
     "output_type": "execute_result"
    }
   ],
   "source": [
    "X_df.head()"
   ]
  },
  {
   "cell_type": "code",
   "execution_count": 35,
   "metadata": {},
   "outputs": [],
   "source": [
    "# X_df.rename(columns={0:'signal', 1:'language', 2:'file'}).to_pickle(\"test.pkl\")\n",
    "input_data = X_df.sample(4000)"
   ]
  },
  {
   "cell_type": "code",
   "execution_count": 36,
   "metadata": {},
   "outputs": [
    {
     "name": "stdout",
     "output_type": "stream",
     "text": [
      "starting this goddamn process...\n",
      "694.314544, spectral_contrast\n",
      "1378.404568, zero_crossing_rate\n",
      "1589.836902, spectral_centroid\n",
      "1707.982864, spectral_flatness\n",
      "1829.315613, spectral_rolloff\n",
      "1857.626604, rms\n"
     ]
    }
   ],
   "source": [
    "print(\"starting this goddamn process...\")\n",
    "start = time.time()\n",
    "\n",
    "functions = [spectral_contrast, zero_crossing_rate, spectral_centroid, spectral_flatness, \n",
    "             spectral_rolloff, rms]\n",
    "features = [np.min, np.max, np.mean, np.std]\n",
    "\n",
    "for func in functions:\n",
    "    feature = input_data.signal.apply(lambda X : func(X))\n",
    "    for feat in features:\n",
    "        name = \"{}_{}\".format(func.__name__, feat.__name__)\n",
    "        input_data[name] = feature.apply(lambda f : feat(f))\n",
    "        \n",
    "    print(\"{:f}, {}\".format(time.time() - start, func.__name__))"
   ]
  },
  {
   "cell_type": "code",
   "execution_count": 37,
   "metadata": {},
   "outputs": [],
   "source": [
    "input_data.drop(columns=['signal']).to_csv(\"extracted.csv\")"
   ]
  },
  {
   "cell_type": "code",
   "execution_count": 3,
   "metadata": {},
   "outputs": [],
   "source": [
    "input_data = pd.read_csv(\"extracted.csv\")"
   ]
  },
  {
   "cell_type": "code",
   "execution_count": 4,
   "metadata": {},
   "outputs": [
    {
     "data": {
      "text/plain": [
       "cy    1018\n",
       "es    1000\n",
       "nl     996\n",
       "eu     986\n",
       "Name: language, dtype: int64"
      ]
     },
     "execution_count": 4,
     "metadata": {},
     "output_type": "execute_result"
    }
   ],
   "source": [
    "input_data.language.value_counts()"
   ]
  },
  {
   "cell_type": "code",
   "execution_count": 5,
   "metadata": {},
   "outputs": [
    {
     "data": {
      "text/html": [
       "<div>\n",
       "<style scoped>\n",
       "    .dataframe tbody tr th:only-of-type {\n",
       "        vertical-align: middle;\n",
       "    }\n",
       "\n",
       "    .dataframe tbody tr th {\n",
       "        vertical-align: top;\n",
       "    }\n",
       "\n",
       "    .dataframe thead th {\n",
       "        text-align: right;\n",
       "    }\n",
       "</style>\n",
       "<table border=\"1\" class=\"dataframe\">\n",
       "  <thead>\n",
       "    <tr style=\"text-align: right;\">\n",
       "      <th></th>\n",
       "      <th>Unnamed: 0</th>\n",
       "      <th>language</th>\n",
       "      <th>file</th>\n",
       "      <th>spectral_contrast_amin</th>\n",
       "      <th>spectral_contrast_amax</th>\n",
       "      <th>spectral_contrast_mean</th>\n",
       "      <th>spectral_contrast_std</th>\n",
       "      <th>zero_crossing_rate_amin</th>\n",
       "      <th>zero_crossing_rate_amax</th>\n",
       "      <th>zero_crossing_rate_mean</th>\n",
       "      <th>...</th>\n",
       "      <th>spectral_flatness_mean</th>\n",
       "      <th>spectral_flatness_std</th>\n",
       "      <th>spectral_rolloff_amin</th>\n",
       "      <th>spectral_rolloff_amax</th>\n",
       "      <th>spectral_rolloff_mean</th>\n",
       "      <th>spectral_rolloff_std</th>\n",
       "      <th>rms_amin</th>\n",
       "      <th>rms_amax</th>\n",
       "      <th>rms_mean</th>\n",
       "      <th>rms_std</th>\n",
       "    </tr>\n",
       "  </thead>\n",
       "  <tbody>\n",
       "    <tr>\n",
       "      <th>0</th>\n",
       "      <td>4778</td>\n",
       "      <td>cy</td>\n",
       "      <td>common_voice_cy_18150234.mp3</td>\n",
       "      <td>3.365438</td>\n",
       "      <td>51.344994</td>\n",
       "      <td>19.001597</td>\n",
       "      <td>6.800446</td>\n",
       "      <td>0.000000</td>\n",
       "      <td>0.218750</td>\n",
       "      <td>0.093903</td>\n",
       "      <td>...</td>\n",
       "      <td>0.017859</td>\n",
       "      <td>0.102585</td>\n",
       "      <td>0.000000</td>\n",
       "      <td>7267.456055</td>\n",
       "      <td>2788.159544</td>\n",
       "      <td>1800.308368</td>\n",
       "      <td>0.000000</td>\n",
       "      <td>0.057541</td>\n",
       "      <td>0.011674</td>\n",
       "      <td>0.012806</td>\n",
       "    </tr>\n",
       "    <tr>\n",
       "      <th>1</th>\n",
       "      <td>2768</td>\n",
       "      <td>cy</td>\n",
       "      <td>common_voice_cy_17599722.mp3</td>\n",
       "      <td>4.180400</td>\n",
       "      <td>49.402896</td>\n",
       "      <td>20.788723</td>\n",
       "      <td>7.923207</td>\n",
       "      <td>0.009277</td>\n",
       "      <td>0.292480</td>\n",
       "      <td>0.070005</td>\n",
       "      <td>...</td>\n",
       "      <td>0.006866</td>\n",
       "      <td>0.048917</td>\n",
       "      <td>118.432617</td>\n",
       "      <td>9119.311523</td>\n",
       "      <td>2668.992319</td>\n",
       "      <td>1826.863225</td>\n",
       "      <td>0.000006</td>\n",
       "      <td>0.366027</td>\n",
       "      <td>0.073584</td>\n",
       "      <td>0.084934</td>\n",
       "    </tr>\n",
       "    <tr>\n",
       "      <th>2</th>\n",
       "      <td>2202</td>\n",
       "      <td>nl</td>\n",
       "      <td>common_voice_nl_18826870.mp3</td>\n",
       "      <td>6.082339</td>\n",
       "      <td>43.352301</td>\n",
       "      <td>19.228543</td>\n",
       "      <td>6.450371</td>\n",
       "      <td>0.000000</td>\n",
       "      <td>0.345215</td>\n",
       "      <td>0.040844</td>\n",
       "      <td>...</td>\n",
       "      <td>0.009365</td>\n",
       "      <td>0.092377</td>\n",
       "      <td>0.000000</td>\n",
       "      <td>9377.709961</td>\n",
       "      <td>2419.615788</td>\n",
       "      <td>1828.856357</td>\n",
       "      <td>0.000000</td>\n",
       "      <td>0.219831</td>\n",
       "      <td>0.036484</td>\n",
       "      <td>0.041688</td>\n",
       "    </tr>\n",
       "    <tr>\n",
       "      <th>3</th>\n",
       "      <td>8800</td>\n",
       "      <td>eu</td>\n",
       "      <td>common_voice_eu_18886445.mp3</td>\n",
       "      <td>2.229707</td>\n",
       "      <td>52.480443</td>\n",
       "      <td>20.401553</td>\n",
       "      <td>7.294617</td>\n",
       "      <td>0.000000</td>\n",
       "      <td>0.163086</td>\n",
       "      <td>0.022012</td>\n",
       "      <td>...</td>\n",
       "      <td>0.002206</td>\n",
       "      <td>0.046124</td>\n",
       "      <td>0.000000</td>\n",
       "      <td>5652.465820</td>\n",
       "      <td>1664.231941</td>\n",
       "      <td>1032.340750</td>\n",
       "      <td>0.000000</td>\n",
       "      <td>0.259346</td>\n",
       "      <td>0.087518</td>\n",
       "      <td>0.070979</td>\n",
       "    </tr>\n",
       "    <tr>\n",
       "      <th>4</th>\n",
       "      <td>6890</td>\n",
       "      <td>es</td>\n",
       "      <td>common_voice_es_18664415.mp3</td>\n",
       "      <td>2.742959</td>\n",
       "      <td>47.991517</td>\n",
       "      <td>18.687664</td>\n",
       "      <td>5.792443</td>\n",
       "      <td>0.000000</td>\n",
       "      <td>0.176758</td>\n",
       "      <td>0.041861</td>\n",
       "      <td>...</td>\n",
       "      <td>0.011449</td>\n",
       "      <td>0.091828</td>\n",
       "      <td>0.000000</td>\n",
       "      <td>6298.461914</td>\n",
       "      <td>2300.586302</td>\n",
       "      <td>2069.949545</td>\n",
       "      <td>0.000000</td>\n",
       "      <td>0.060144</td>\n",
       "      <td>0.013298</td>\n",
       "      <td>0.013429</td>\n",
       "    </tr>\n",
       "  </tbody>\n",
       "</table>\n",
       "<p>5 rows × 27 columns</p>\n",
       "</div>"
      ],
      "text/plain": [
       "   Unnamed: 0 language                          file  spectral_contrast_amin  \\\n",
       "0        4778       cy  common_voice_cy_18150234.mp3                3.365438   \n",
       "1        2768       cy  common_voice_cy_17599722.mp3                4.180400   \n",
       "2        2202       nl  common_voice_nl_18826870.mp3                6.082339   \n",
       "3        8800       eu  common_voice_eu_18886445.mp3                2.229707   \n",
       "4        6890       es  common_voice_es_18664415.mp3                2.742959   \n",
       "\n",
       "   spectral_contrast_amax  spectral_contrast_mean  spectral_contrast_std  \\\n",
       "0               51.344994               19.001597               6.800446   \n",
       "1               49.402896               20.788723               7.923207   \n",
       "2               43.352301               19.228543               6.450371   \n",
       "3               52.480443               20.401553               7.294617   \n",
       "4               47.991517               18.687664               5.792443   \n",
       "\n",
       "   zero_crossing_rate_amin  zero_crossing_rate_amax  zero_crossing_rate_mean  \\\n",
       "0                 0.000000                 0.218750                 0.093903   \n",
       "1                 0.009277                 0.292480                 0.070005   \n",
       "2                 0.000000                 0.345215                 0.040844   \n",
       "3                 0.000000                 0.163086                 0.022012   \n",
       "4                 0.000000                 0.176758                 0.041861   \n",
       "\n",
       "   ...  spectral_flatness_mean  spectral_flatness_std  spectral_rolloff_amin  \\\n",
       "0  ...                0.017859               0.102585               0.000000   \n",
       "1  ...                0.006866               0.048917             118.432617   \n",
       "2  ...                0.009365               0.092377               0.000000   \n",
       "3  ...                0.002206               0.046124               0.000000   \n",
       "4  ...                0.011449               0.091828               0.000000   \n",
       "\n",
       "   spectral_rolloff_amax  spectral_rolloff_mean  spectral_rolloff_std  \\\n",
       "0            7267.456055            2788.159544           1800.308368   \n",
       "1            9119.311523            2668.992319           1826.863225   \n",
       "2            9377.709961            2419.615788           1828.856357   \n",
       "3            5652.465820            1664.231941           1032.340750   \n",
       "4            6298.461914            2300.586302           2069.949545   \n",
       "\n",
       "   rms_amin  rms_amax  rms_mean   rms_std  \n",
       "0  0.000000  0.057541  0.011674  0.012806  \n",
       "1  0.000006  0.366027  0.073584  0.084934  \n",
       "2  0.000000  0.219831  0.036484  0.041688  \n",
       "3  0.000000  0.259346  0.087518  0.070979  \n",
       "4  0.000000  0.060144  0.013298  0.013429  \n",
       "\n",
       "[5 rows x 27 columns]"
      ]
     },
     "execution_count": 5,
     "metadata": {},
     "output_type": "execute_result"
    }
   ],
   "source": [
    "input_data.head()"
   ]
  },
  {
   "cell_type": "markdown",
   "metadata": {},
   "source": [
    "## Define features and target values"
   ]
  },
  {
   "cell_type": "code",
   "execution_count": 6,
   "metadata": {},
   "outputs": [],
   "source": [
    "features = input_data[input_data.language.isin(['es', 'eu', 'cy', 'nl'])].iloc[slice(None), 3:]\n",
    "target = input_data[input_data.language.isin(['es', 'eu', 'cy', 'nl'])]['language']"
   ]
  },
  {
   "cell_type": "markdown",
   "metadata": {},
   "source": [
    "## ML Pipeline"
   ]
  },
  {
   "cell_type": "code",
   "execution_count": 53,
   "metadata": {
    "scrolled": true
   },
   "outputs": [],
   "source": [
    "from sklearn.linear_model import LogisticRegression\n",
    "from sklearn.dummy import DummyClassifier\n",
    "from sklearn.ensemble import RandomForestClassifier\n",
    "from sklearn.model_selection import train_test_split, cross_validate, ShuffleSplit\n",
    "from sklearn.pipeline import Pipeline\n",
    "from sklearn.preprocessing import MinMaxScaler, Normalizer, StandardScaler, PolynomialFeatures, LabelEncoder\n",
    "from sklearn.decomposition import PCA\n",
    "import xgboost as xgb\n",
    "\n",
    "pipeline = Pipeline([\n",
    "                    ('stdscaler', StandardScaler()),\n",
    "                    ('norm', Normalizer()),\n",
    "                    ('poly', PolynomialFeatures(2)),\n",
    "                    ('minmax', MinMaxScaler()),\n",
    "#                     ('PCA', PCA(10)),\n",
    "#                     ('dummy', DummyClassifier())\n",
    "#                     ('logreg', LogisticRegression(solver='lbfgs', multi_class='auto', max_iter=2000)),\n",
    "                    ('rfc', RandomForestClassifier(100)),\n",
    "#                     ('xgb', xgb.XGBRFClassifier(n_estimators=100, learning_rate=10))\n",
    "                    ])\n",
    "result = cross_validate(pipeline, X=features, y=LabelEncoder().fit_transform(target), cv=ShuffleSplit(3), \n",
    "                        return_estimator=False)#['accuracy', 'recall', 'precision', 'f1'])"
   ]
  },
  {
   "cell_type": "code",
   "execution_count": 54,
   "metadata": {},
   "outputs": [
    {
     "data": {
      "text/plain": [
       "{'fit_time': array([4.60671258, 5.34570122, 4.83506727]),\n",
       " 'score_time': array([0.02194142, 0.02493382, 0.02490282]),\n",
       " 'test_score': array([0.62 , 0.565, 0.545])}"
      ]
     },
     "execution_count": 54,
     "metadata": {},
     "output_type": "execute_result"
    }
   ],
   "source": [
    "result"
   ]
  },
  {
   "cell_type": "code",
   "execution_count": null,
   "metadata": {},
   "outputs": [],
   "source": []
  },
  {
   "cell_type": "code",
   "execution_count": 60,
   "metadata": {},
   "outputs": [
    {
     "data": {
      "image/png": "[encoded data removed]",
      "text/plain": [
       "<Figure size 432x288 with 2 Axes>"
      ]
     },
     "metadata": {},
     "output_type": "display_data"
    }
   ],
   "source": [
    "from sklearn.metrics import confusion_matrix\n",
    "plt.subplots(figsize=(6,4))\n",
    "sns.set(style=\"white\")\n",
    "\n",
    "# X_train, X_test, y_train, y_test = train_test_split(features, target, test_size=0.25, stratify=target)\n",
    "\n",
    "# pipeline.fit(X_train, y_train)\n",
    "# pred = pipeline.predict(X_test)\n",
    "\n",
    "# corr = confusion_matrix(y_test, pred, labels = ['cy', 'es', 'eu', 'nl'])\n",
    "\n",
    "# for i in range(0,19):\n",
    "#     print(i, end='')\n",
    "#     X_train, X_test, y_train, y_test = train_test_split(features, target, test_size=0.25, stratify=target)\n",
    "#     pipeline.fit(X_train, y_train)\n",
    "#     pred = pipeline.predict(X_test)\n",
    "\n",
    "#     corr += confusion_matrix(y_test, pred, labels = ['cy', 'es', 'eu', 'nl'])\n",
    "    \n",
    "# corr = corr/20.\n",
    "\n",
    "font = {'family': 'serif',\n",
    "        'color':  'black',\n",
    "        'weight': 'bold',\n",
    "        'size': 12,\n",
    "        }\n",
    "\n",
    "sns.heatmap(corr,\n",
    "  xticklabels=['Welsh', 'Spanish', 'Euskara', 'Dutch'],\n",
    "  yticklabels=['Welsh', 'Spanish', 'Euskara', 'Dutch'],\n",
    "    cmap=sns.cubehelix_palette(100), \n",
    "            annot=True, \n",
    "            fmt=\".1f\", \n",
    "            linewidths=2,\n",
    "    cbar_kws={\"orientation\": \"horizontal\"})\n",
    "\n",
    "plt.yticks(rotation=0)\n",
    "\n",
    "plt.xlabel('Predicted', fontdict=font)\n",
    "plt.ylabel('True', fontdict=font)\n",
    "\n",
    "plt.tight_layout()\n",
    "\n",
    "plt.show()"
   ]
  },
  {
   "cell_type": "code",
   "execution_count": 55,
   "metadata": {},
   "outputs": [],
   "source": [
    "from sklearn.metrics import classification_report"
   ]
  },
  {
   "cell_type": "code",
   "execution_count": 61,
   "metadata": {},
   "outputs": [
    {
     "name": "stdout",
     "output_type": "stream",
     "text": [
      "              precision    recall  f1-score   support\n",
      "\n",
      "          cy       0.59      0.62      0.61       255\n",
      "          es       0.55      0.51      0.53       250\n",
      "          eu       0.59      0.65      0.62       246\n",
      "          nl       0.57      0.52      0.54       249\n",
      "\n",
      "    accuracy                           0.58      1000\n",
      "   macro avg       0.58      0.58      0.58      1000\n",
      "weighted avg       0.58      0.58      0.58      1000\n",
      "\n"
     ]
    }
   ],
   "source": [
    "print(classification_report(y_test, pred, target_names=['cy', 'es', 'eu', 'nl']))"
   ]
  },
  {
   "cell_type": "code",
   "execution_count": 49,
   "metadata": {},
   "outputs": [],
   "source": [
    "corr_cnn = [[184,  14,  31,  21],\n",
    "       [ 25, 157,  46,  22],\n",
    "       [ 14,  19, 196,  21],\n",
    "       [ 17,  17,  21, 195]]"
   ]
  },
  {
   "cell_type": "code",
   "execution_count": 50,
   "metadata": {},
   "outputs": [
    {
     "data": {
      "image/png": "[encoded data removed]",
      "text/plain": [
       "<Figure size 432x288 with 2 Axes>"
      ]
     },
     "metadata": {},
     "output_type": "display_data"
    }
   ],
   "source": [
    "font = {'family': 'serif',\n",
    "        'color':  'black',\n",
    "        'weight': 'bold',\n",
    "        'size': 12,\n",
    "        }\n",
    "\n",
    "sns.heatmap(corr_cnn,\n",
    "  xticklabels=['Welsh', 'Spanish', 'Euskara', 'Dutch'],\n",
    "  yticklabels=['Welsh', 'Spanish', 'Euskara', 'Dutch'],\n",
    "    cmap=sns.cubehelix_palette(100), \n",
    "            annot=True, \n",
    "            fmt=\".1f\", \n",
    "            linewidths=2,\n",
    "    cbar_kws={\"orientation\": \"horizontal\"})\n",
    "\n",
    "plt.yticks(rotation=0)\n",
    "\n",
    "plt.xlabel('Predicted', fontdict=font)\n",
    "plt.ylabel('True', fontdict=font)\n",
    "\n",
    "plt.tight_layout()\n",
    "\n",
    "plt.show()"
   ]
  },
  {
   "cell_type": "code",
   "execution_count": 234,
   "metadata": {},
   "outputs": [
    {
     "data": {
      "text/plain": [
       "array([0.06707254, 0.05290701, 0.04988204, 0.04820523, 0.04701608,\n",
       "       0.04666049, 0.04521883, 0.04473294, 0.04453947, 0.04394065,\n",
       "       0.04326364, 0.04278873, 0.04173614, 0.04159199, 0.0377721 ,\n",
       "       0.03706142, 0.03700724, 0.03497515, 0.0345433 , 0.03389983,\n",
       "       0.03248219, 0.03125111, 0.03092787, 0.03052402])"
      ]
     },
     "execution_count": 234,
     "metadata": {},
     "output_type": "execute_result"
    }
   ],
   "source": [
    "imp.describe().loc['mean'].sort_values(ascending=False).values"
   ]
  },
  {
   "cell_type": "code",
   "execution_count": 11,
   "metadata": {},
   "outputs": [
    {
     "ename": "NameError",
     "evalue": "name 'result' is not defined",
     "output_type": "error",
     "traceback": [
      "\u001b[1;31m---------------------------------------------------------------------------\u001b[0m",
      "\u001b[1;31mNameError\u001b[0m                                 Traceback (most recent call last)",
      "\u001b[1;32m<ipython-input-11-c6829594e13b>\u001b[0m in \u001b[0;36m<module>\u001b[1;34m\u001b[0m\n\u001b[0;32m      1\u001b[0m \u001b[0mimp\u001b[0m \u001b[1;33m=\u001b[0m \u001b[0mpd\u001b[0m\u001b[1;33m.\u001b[0m\u001b[0mDataFrame\u001b[0m\u001b[1;33m(\u001b[0m\u001b[0mcolumns\u001b[0m\u001b[1;33m=\u001b[0m\u001b[0minput_data\u001b[0m\u001b[1;33m.\u001b[0m\u001b[0miloc\u001b[0m\u001b[1;33m[\u001b[0m\u001b[0mslice\u001b[0m\u001b[1;33m(\u001b[0m\u001b[1;32mNone\u001b[0m\u001b[1;33m)\u001b[0m\u001b[1;33m,\u001b[0m \u001b[1;36m3\u001b[0m\u001b[1;33m:\u001b[0m\u001b[1;33m]\u001b[0m\u001b[1;33m.\u001b[0m\u001b[0mcolumns\u001b[0m\u001b[1;33m.\u001b[0m\u001b[0mvalues\u001b[0m\u001b[1;33m)\u001b[0m\u001b[1;33m\u001b[0m\u001b[1;33m\u001b[0m\u001b[0m\n\u001b[0;32m      2\u001b[0m \u001b[1;33m\u001b[0m\u001b[0m\n\u001b[1;32m----> 3\u001b[1;33m \u001b[1;32mfor\u001b[0m \u001b[0mest\u001b[0m \u001b[1;32min\u001b[0m \u001b[0mresult\u001b[0m\u001b[1;33m[\u001b[0m\u001b[1;34m'estimator'\u001b[0m\u001b[1;33m]\u001b[0m\u001b[1;33m:\u001b[0m\u001b[1;33m\u001b[0m\u001b[1;33m\u001b[0m\u001b[0m\n\u001b[0m\u001b[0;32m      4\u001b[0m \u001b[1;31m#     print(est.steps[3][1].feature_importances_)\u001b[0m\u001b[1;33m\u001b[0m\u001b[1;33m\u001b[0m\u001b[1;33m\u001b[0m\u001b[0m\n\u001b[0;32m      5\u001b[0m     imp = pd.concat([imp, pd.DataFrame([est.steps[3][1].feature_importances_], \n",
      "\u001b[1;31mNameError\u001b[0m: name 'result' is not defined"
     ]
    }
   ],
   "source": [
    "imp = pd.DataFrame(columns=input_data.iloc[slice(None), 3:].columns.values)\n",
    "\n",
    "for est in result['estimator']:\n",
    "#     print(est.steps[3][1].feature_importances_)\n",
    "    imp = pd.concat([imp, pd.DataFrame([est.steps[3][1].feature_importances_], \n",
    "                                       columns=input_data.iloc[slice(None), 3:].columns.values)])\n",
    "    \n",
    "imp.describe().loc['mean'].sort_values(ascending=False)\n",
    "\n",
    "import seaborn as sns\n",
    "\n",
    "ax = plt.subplots(figsize=(6,8))\n",
    "\n",
    "sns.barplot(y=imp.describe().loc['mean'].sort_values(ascending=False).index, \n",
    "            x=imp.describe().loc['mean'].sort_values(ascending=False).values,\n",
    "            orient=\"h\", palette='summer')"
   ]
  },
  {
   "cell_type": "code",
   "execution_count": 241,
   "metadata": {},
   "outputs": [
    {
     "data": {
      "text/plain": [
       "RandomForestClassifier(bootstrap=True, class_weight=None, criterion='gini',\n",
       "                       max_depth=None, max_features='auto', max_leaf_nodes=None,\n",
       "                       min_impurity_decrease=0.0, min_impurity_split=None,\n",
       "                       min_samples_leaf=1, min_samples_split=2,\n",
       "                       min_weight_fraction_leaf=0.0, n_estimators=100,\n",
       "                       n_jobs=None, oob_score=False, random_state=None,\n",
       "                       verbose=0, warm_start=False)"
      ]
     },
     "execution_count": 241,
     "metadata": {},
     "output_type": "execute_result"
    }
   ],
   "source": [
    "result['estimator'][0].steps[4][1].predict()"
   ]
  },
  {
   "cell_type": "code",
   "execution_count": 238,
   "metadata": {},
   "outputs": [
    {
     "name": "stdout",
     "output_type": "stream",
     "text": [
      "Accuracy:\t 0.5841666666666666\n"
     ]
    }
   ],
   "source": [
    "print(\"Accuracy:\\t\", result['test_score'].mean())\n",
    "# print(\"Precision:\\t\", result['test_precision'].mean())\n",
    "# print(\"Recall:\\t\\t\", result['test_recall'].mean())\n",
    "# print(\"F1 Score:\\t\", result['test_f1'].mean())"
   ]
  },
  {
   "cell_type": "code",
   "execution_count": null,
   "metadata": {},
   "outputs": [],
   "source": []
  }
 ],
 "metadata": {
  "kernelspec": {
   "display_name": "Python 3",
   "language": "python",
   "name": "python3"
  },
  "language_info": {
   "codemirror_mode": {
    "name": "ipython",
    "version": 3
   },
   "file_extension": ".py",
   "mimetype": "text/x-python",
   "name": "python",
   "nbconvert_exporter": "python",
   "pygments_lexer": "ipython3",
   "version": "3.7.5"
  }
 },
 "nbformat": 4,
 "nbformat_minor": 2
}
